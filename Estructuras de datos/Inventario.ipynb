{
  "nbformat": 4,
  "nbformat_minor": 0,
  "metadata": {
    "colab": {
      "provenance": [],
      "authorship_tag": "ABX9TyOinlcJZWi/SB5QOHL1xm4h",
      "include_colab_link": true
    },
    "kernelspec": {
      "name": "python3",
      "display_name": "Python 3"
    },
    "language_info": {
      "name": "python"
    }
  },
  "cells": [
    {
      "cell_type": "markdown",
      "metadata": {
        "id": "view-in-github",
        "colab_type": "text"
      },
      "source": [
        "<a href=\"https://colab.research.google.com/github/Facundoheck/Python/blob/master/Inventario.ipynb\" target=\"_parent\"><img src=\"https://colab.research.google.com/assets/colab-badge.svg\" alt=\"Open In Colab\"/></a>"
      ]
    },
    {
      "cell_type": "markdown",
      "source": [
        "# **Inventario**"
      ],
      "metadata": {
        "id": "pot81cO6wTxF"
      }
    },
    {
      "cell_type": "markdown",
      "source": [
        "## Clase Producto"
      ],
      "metadata": {
        "id": "t-JzTN4mxAQR"
      }
    },
    {
      "cell_type": "code",
      "execution_count": 1,
      "metadata": {
        "id": "0DPS5H38qZ99"
      },
      "outputs": [],
      "source": [
        "class Producto:\n",
        "  def __init__(self,id,descripcion,marca,stock,precio):\n",
        "    self.id = id\n",
        "    self.descripcion = descripcion\n",
        "    self.marca = marca\n",
        "    self.stock = stock\n",
        "    self.precio = precio"
      ]
    },
    {
      "cell_type": "markdown",
      "source": [
        "\n",
        "## Agregar un producto al inventario"
      ],
      "metadata": {
        "id": "jZvSwITaxGJo"
      }
    },
    {
      "cell_type": "code",
      "source": [
        "def agregarProducto(inventario):\n",
        "  id=int(input('Codigo de producto: '))\n",
        "  descripcion=input('Descripcion: ')\n",
        "  marca=input('Marca: ')\n",
        "  stock=int(input('Cantidad en stock: '))\n",
        "  precio=float(input('Precio: '))\n",
        "  prod=Producto(id,descripcion,marca,stock,precio)\n",
        "  inventario[id]=prod"
      ],
      "metadata": {
        "id": "hk5U6SbAwEhR"
      },
      "execution_count": 2,
      "outputs": []
    },
    {
      "cell_type": "markdown",
      "source": [
        "## Actualizar stock"
      ],
      "metadata": {
        "id": "qS2xMC-bxyyK"
      }
    },
    {
      "cell_type": "code",
      "source": [
        "def actualizarExistencia(inventario):\n",
        "  id=int(input('Codigo de producto: '))\n",
        "  cantidad=int(input('Cantidad en stock: '))\n",
        "  prod=inventario.get(id)\n",
        "  if prod:\n",
        "    prod.stock=cantidad\n",
        "    print('Stock del producuto actualizado con éxito')\n",
        "  else:\n",
        "    print('No existe el producto')"
      ],
      "metadata": {
        "id": "bWoitgfrwKSJ"
      },
      "execution_count": 3,
      "outputs": []
    },
    {
      "cell_type": "markdown",
      "source": [
        "## Actualizar el precio de producto"
      ],
      "metadata": {
        "id": "sfrHGuW4x7dh"
      }
    },
    {
      "cell_type": "code",
      "source": [
        "def actualizarPrecio(inventario):\n",
        "  id=int(input('Codigo de producto: '))\n",
        "  precio=float(input('Precio de producto: '))\n",
        "  prod=inventario.get(id)\n",
        "  if prod:\n",
        "    prod.precio=precio\n",
        "    print('Precio del producto actualizado con éxito')\n",
        "  else:\n",
        "    print('No existe el producto')"
      ],
      "metadata": {
        "id": "y5FE_xWHwOAU"
      },
      "execution_count": 4,
      "outputs": []
    },
    {
      "cell_type": "markdown",
      "source": [
        "## Mostrar el inventario completo"
      ],
      "metadata": {
        "id": "Uu77dLCPyA9h"
      }
    },
    {
      "cell_type": "code",
      "source": [
        "def mostrarInventario(inventario):\n",
        "  for id,producto in inventario.items():\n",
        "    print('Codigo:',producto.id)\n",
        "    print('Descripcion:',producto.descripcion)\n",
        "    print('Marca:',producto.marca)\n",
        "    print('Cantidad en stock:',producto.stock)\n",
        "    print('Precio:',producto.precio)\n",
        "    print('-'*30)"
      ],
      "metadata": {
        "id": "w4TeNorNwQdU"
      },
      "execution_count": 5,
      "outputs": []
    },
    {
      "cell_type": "markdown",
      "source": [
        "## Programa principal"
      ],
      "metadata": {
        "id": "Yah7FeWoyLjB"
      }
    },
    {
      "cell_type": "code",
      "source": [
        "def main():\n",
        "  inventario={}\n",
        "  while True:\n",
        "    eleccion = str(input(\"\\n\\n\"+'-'*30+\"\\n\\nMenu:\\n\\n 1: Agregar productos\\n 2: Actualizar existencias\\n 3: Actualizar precio\\n 4: Mostrar inventario\\n 5: Salir\\n\\nSu opcion: \"))\n",
        "    if eleccion == '1':\n",
        "      print('-'*30+'\\n\\n')\n",
        "      agregarProducto(inventario)\n",
        "    elif eleccion == '2':\n",
        "      print('-'*30+'\\n\\n')\n",
        "      actualizarExistencia(inventario)\n",
        "    elif eleccion == '3':\n",
        "      print('-'*30+'\\n\\n')\n",
        "      actualizarPrecio(inventario)\n",
        "    elif eleccion == '4':\n",
        "      print('-'*30+'\\n\\n')\n",
        "      mostrarInventario(inventario)\n",
        "    elif eleccion == '5':\n",
        "      print('-'*30+'\\n\\n')\n",
        "      break\n",
        "    else:\n",
        "      print('-'*30+'\\n\\n')\n",
        "      print('Opcion invalida, intente nuevamente')\n",
        "\n",
        "main()"
      ],
      "metadata": {
        "colab": {
          "base_uri": "https://localhost:8080/"
        },
        "id": "jc78qxT9v3jr",
        "outputId": "4540ca88-c792-434e-bded-9808361fc8b8"
      },
      "execution_count": 12,
      "outputs": [
        {
          "output_type": "stream",
          "name": "stdout",
          "text": [
            "\n",
            "\n",
            "------------------------------\n",
            "\n",
            "Menu:\n",
            "\n",
            " 1: Agregar productos\n",
            " 2: Actualizar existencias\n",
            " 3: Actualizar precio\n",
            " 4: Mostrar inventario\n",
            " 5: Salir\n",
            "\n",
            "Su opcion: 1\n",
            "------------------------------\n",
            "\n",
            "\n",
            "Codigo de producto: 123\n",
            "Descripcion: Bebible\n",
            "Marca: Coca-Cola\n",
            "Cantidad en stock: 13\n",
            "Precio: 180.00\n",
            "\n",
            "\n",
            "------------------------------\n",
            "\n",
            "Menu:\n",
            "\n",
            " 1: Agregar productos\n",
            " 2: Actualizar existencias\n",
            " 3: Actualizar precio\n",
            " 4: Mostrar inventario\n",
            " 5: Salir\n",
            "\n",
            "Su opcion: 2\n",
            "------------------------------\n",
            "\n",
            "\n",
            "Codigo de producto: 123\n",
            "Cantidad en stock: 5\n",
            "Stock del producuto actualizado con éxito\n",
            "\n",
            "\n",
            "------------------------------\n",
            "\n",
            "Menu:\n",
            "\n",
            " 1: Agregar productos\n",
            " 2: Actualizar existencias\n",
            " 3: Actualizar precio\n",
            " 4: Mostrar inventario\n",
            " 5: Salir\n",
            "\n",
            "Su opcion: 3\n",
            "------------------------------\n",
            "\n",
            "\n",
            "Codigo de producto: 123\n",
            "Precio de producto: 250.00\n",
            "Precio del producto actualizado con éxito\n",
            "\n",
            "\n",
            "------------------------------\n",
            "\n",
            "Menu:\n",
            "\n",
            " 1: Agregar productos\n",
            " 2: Actualizar existencias\n",
            " 3: Actualizar precio\n",
            " 4: Mostrar inventario\n",
            " 5: Salir\n",
            "\n",
            "Su opcion: 4\n",
            "------------------------------\n",
            "\n",
            "\n",
            "Codigo: 123\n",
            "Descripcion: Bebible\n",
            "Marca: Coca-Cola\n",
            "Cantidad en stock: 5\n",
            "Precio: 250.0\n",
            "------------------------------\n",
            "\n",
            "\n",
            "------------------------------\n",
            "\n",
            "Menu:\n",
            "\n",
            " 1: Agregar productos\n",
            " 2: Actualizar existencias\n",
            " 3: Actualizar precio\n",
            " 4: Mostrar inventario\n",
            " 5: Salir\n",
            "\n",
            "Su opcion: 5\n",
            "------------------------------\n",
            "\n",
            "\n"
          ]
        }
      ]
    }
  ]
}