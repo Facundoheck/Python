{
  "cells": [
    {
      "cell_type": "markdown",
      "metadata": {
        "id": "view-in-github",
        "colab_type": "text"
      },
      "source": [
        "<a href=\"https://colab.research.google.com/github/Facundoheck/Python/blob/master/An%C3%A1lisis%20de%20datos.ipynb\" target=\"_parent\"><img src=\"https://colab.research.google.com/assets/colab-badge.svg\" alt=\"Open In Colab\"/></a>"
      ]
    },
    {
      "cell_type": "markdown",
      "source": [
        "# **TRABAJO PRÁCTICO FINAL**     \n",
        "\n",
        "| Integrantes | Legajo|\n",
        "| ----- | --- |\n",
        "|Heck, Facundo | H-1189/4 |\n"
      ],
      "metadata": {
        "id": "Z4vd_1jHc-Dz"
      }
    },
    {
      "cell_type": "markdown",
      "source": [
        "# Archivos"
      ],
      "metadata": {
        "id": "LKXL4eDrekXZ"
      }
    },
    {
      "cell_type": "markdown",
      "source": [
        "## Descarga"
      ],
      "metadata": {
        "id": "v_ihUbk6TsV1"
      }
    },
    {
      "cell_type": "code",
      "source": [
        "!gdown 1WWvf6yn5oS1xarapKnwr3s8l2wKWtd7d"
      ],
      "metadata": {
        "id": "PZCFSAgBeNqP",
        "colab": {
          "base_uri": "https://localhost:8080/"
        },
        "outputId": "23665e07-188a-4e32-c5db-fd691ce453b2"
      },
      "execution_count": 2,
      "outputs": [
        {
          "output_type": "stream",
          "name": "stdout",
          "text": [
            "Downloading...\n",
            "From: https://drive.google.com/uc?id=1WWvf6yn5oS1xarapKnwr3s8l2wKWtd7d\n",
            "To: /content/coordenadas_provincias.csv\n",
            "\r  0% 0.00/776 [00:00<?, ?B/s]\r100% 776/776 [00:00<00:00, 2.54MB/s]\n"
          ]
        }
      ]
    },
    {
      "cell_type": "code",
      "source": [
        "!gdown 1asnB13q-2xtASo5wVLW5NeQS2gF7lJZc"
      ],
      "metadata": {
        "colab": {
          "base_uri": "https://localhost:8080/"
        },
        "id": "eLdKtYD0DdsS",
        "outputId": "fcfd3593-c0ab-43eb-e03c-cae71a02aa22"
      },
      "execution_count": 3,
      "outputs": [
        {
          "output_type": "stream",
          "name": "stdout",
          "text": [
            "Downloading...\n",
            "From: https://drive.google.com/uc?id=1asnB13q-2xtASo5wVLW5NeQS2gF7lJZc\n",
            "To: /content/previaje.csv\n",
            "\r  0% 0.00/410k [00:00<?, ?B/s]\r100% 410k/410k [00:00<00:00, 73.3MB/s]\n"
          ]
        }
      ]
    },
    {
      "cell_type": "markdown",
      "source": [
        "## Lectura"
      ],
      "metadata": {
        "id": "WY2M6mApPHzf"
      }
    },
    {
      "cell_type": "code",
      "source": [
        "import csv\n",
        "\n",
        "def openFile(archivo):\n",
        "  global lista\n",
        "  apertura = open(archivo,'r')\n",
        "  lectura = csv.reader(apertura)\n",
        "  lista = []\n",
        "  for i in lectura:\n",
        "    lista.append(i)\n",
        "  return lista\n",
        "\n",
        "\n",
        "#Lee datos del archivo de entrada y retorna una lista con la información que se va a usar en el trabajo.\n",
        " # Insertar función creada en clase"
      ],
      "metadata": {
        "id": "mAoEK9bKhlaB"
      },
      "execution_count": 4,
      "outputs": []
    },
    {
      "cell_type": "markdown",
      "source": [
        "# Enunciado 1\n",
        "- Leer el archivo 'coordenadas_provincias.csv' que se encuentra en esta dirección: \\\n",
        "  `\n",
        "  https://drive.google.com/file/d/1WWvf6yn5oS1xarapKnwr3s8l2wKWtd7d/view?usp=drive_link\n",
        "  `\n",
        "- Crear la función listToDict que se encarga de convertir los datos leídos a una lista de diccionarios.\n",
        "- Llamar a la función anterior con los datos del archivo leído y verificar que devuelva lo pedido.\n",
        "- Crear el constructor de la clase 'Provincia'\n",
        "- Crear un objeto de la clase 'Provincia'\n"
      ],
      "metadata": {
        "id": "T36g6ukAq0SM"
      }
    },
    {
      "cell_type": "code",
      "source": [
        "def listToDict(lectura):\n",
        "  global dic\n",
        "  dic = {}\n",
        "  for i in lectura:\n",
        "    j = i[0]\n",
        "    k = tuple(i[1:])\n",
        "    dic[j] = k\n",
        "  return dic\n",
        "\n",
        "#Toma el resultado de la lectura de datos como argumento y devuelve una lista de diccionarios.\n",
        "#La clave es el valor en el índice 0, y los valores asociados son una tupla con el resto de los elementos de la lista.\n"
      ],
      "metadata": {
        "id": "MEOI8iy-qmtO"
      },
      "execution_count": 7,
      "outputs": []
    },
    {
      "cell_type": "markdown",
      "source": [
        "# Clases"
      ],
      "metadata": {
        "id": "6LB7mJ4DdSxN"
      }
    },
    {
      "cell_type": "markdown",
      "metadata": {
        "id": "zSvgpU85fNdO"
      },
      "source": [
        "## Clase Provincia"
      ]
    },
    {
      "cell_type": "code",
      "execution_count": 6,
      "metadata": {
        "id": "nDkaHXrqfTxu"
      },
      "outputs": [],
      "source": [
        "class Provincia:\n",
        "\n",
        "  #Esta clase representa una provincia.\n",
        "  #Atributos:\n",
        "    #nombre: str\n",
        "    #coordenada: tuple\n",
        "\n",
        "  def __init__(self,nombre,coordenadas):\n",
        "    self.nombre = nombre\n",
        "    self.coordenadas = coordenadas\n",
        "\n",
        "  def __str__(self):\n",
        "    return str({\"Provincia\":self.nombre, \"Coordenadas\":self.coordenadas})\n"
      ]
    },
    {
      "cell_type": "markdown",
      "source": [
        "# Programa principal"
      ],
      "metadata": {
        "id": "BGPZb2Bkfonf"
      }
    },
    {
      "cell_type": "code",
      "source": [
        "#etapa 1: carga de datos para el archivo coordenadas_provincias.csv\n",
        "openFile('coordenadas_provincias.csv')\n",
        "\n",
        "listToDict(lista)\n",
        "\n",
        "listado_provincias = []\n",
        "#iteracion sobre la lista que contiene los datos del csv\n",
        "for i in lista:\n",
        "  #paso cada registro de la lista a objeto de la clase Provincia\n",
        "  #uso una variable auxiliar \"provincias\" para guardar el registro por cada vuelta de iteracion\n",
        "  #los datos de coordenadas los convierto a tipo tupla\n",
        "  provincias = Provincia(i[0],tuple(i[1:]))\n",
        "  #creo una lista nueva que almacene todos los objetos de la clase Provincia\n",
        "  listado_provincias.append(provincias)\n",
        "  #paso la lista de objetos a la estructura de diccionario\n",
        "dic_prov = {j.nombre: j.coordenadas for j in listado_provincias}\n",
        "\n",
        "#Crear objeto Provincia\n",
        "nueva_provincia = Provincia('santafe',(-35.56,-68.754))\n",
        "#agrego el objeto creado al diccionario\n",
        "dic_prov[nueva_provincia.nombre] = nueva_provincia.coordenadas\n",
        "\n",
        "print(dic_prov)\n"
      ],
      "metadata": {
        "id": "aM_HBf-Sg3j-",
        "colab": {
          "base_uri": "https://localhost:8080/"
        },
        "outputId": "9c30a469-0fae-4b53-b59a-ea451932845c"
      },
      "execution_count": 8,
      "outputs": [
        {
          "output_type": "stream",
          "name": "stdout",
          "text": [
            "{'nombre': ('latitud', 'longitud'), 'Buenos Aires': ('-34.6037', '-58.3816'), 'Ciudad Autónoma de Buenos Aires': ('-34.6158', '-58.4333'), 'Catamarca': ('-28.4696', '-65.7795'), 'Chaco': ('-26.6021', '-59.3087'), 'Chubut': ('-43.6848', '-68.2714'), 'Córdoba': ('-31.4167', '-64.1833'), 'Corrientes': ('-27.4692', '-58.8309'), 'Entre Ríos': ('-31.7642', '-60.5247'), 'Formosa': ('-26.1844', '-58.1759'), 'Jujuy': ('-24.1858', '-65.2995'), 'La Pampa': ('-36.6167', '-64.2833'), 'La Rioja': ('-29.4131', '-66.8558'), 'Mendoza': ('-32.8908', '-68.8272'), 'Misiones': ('-27.3621', '-55.9007'), 'Neuquén': ('-38.9516', '-68.0591'), 'Río Negro': ('-40.8135', '-62.9967'), 'Salta': ('-24.7829', '-65.4232'), 'San Juan': ('-31.5375', '-68.5364'), 'San Luis': ('-33.3335', '-66.3499'), 'Santa Cruz': ('-51.6236', '-69.2169'), 'Santa Fe': ('-31.6333', '-60.7'), 'Santiago del Estero': ('-27.784', '-64.2665'), 'Tierra del Fuego, Antártida e Islas del Atlántico Sur': ('-54.8019', '-68.302'), 'Tucumán': ('-26.808', '-65.2176'), 'santafe': (-35.56, -68.754)}\n"
          ]
        }
      ]
    },
    {
      "cell_type": "code",
      "source": [
        "#etapa 2: carga de datos para el archivo previaje.csv\n",
        "#constructor de la clase viaje\n",
        "class Viaje:\n",
        "  def __init__(self,mes_inicio,provincia_origen,provincia_destino,viajes,viajeros,edicion):\n",
        "    self.mes_inicio = mes_inicio\n",
        "    self.provincia_origen = provincia_origen\n",
        "    self.provincia_destino = provincia_destino\n",
        "    self.viajes = viajes\n",
        "    self.viajeros = viajeros\n",
        "    self.edicion = edicion\n",
        "\n",
        "  def __str__(self):\n",
        "    return str({\"Mes de inicio\":self.mes_inicio, \"provincia de origen\":self.provincia_origen,\"provincia destino\":self.provincia_destino,\"viajes\":self.viajes,\"viajeros\":self.viajeros,\"edicion\":self.edicion})"
      ],
      "metadata": {
        "id": "47j7h97DMVs0"
      },
      "execution_count": 9,
      "outputs": []
    },
    {
      "cell_type": "code",
      "source": [
        "#estructura de datos para los objetos de la clase Viaje\n",
        "openFile('previaje.csv')\n",
        "#listToDict(lista)\n",
        "listado_viajes=[]\n",
        "for i in lista:\n",
        "  viajes = Viaje(i[0],i[1],i[2],i[3],i[4],i[5])\n",
        "  listado_viajes.append(viajes)\n",
        "#elimino los indices de cada columna\n",
        "listado_viajes.pop(0)\n",
        "c=0\n",
        "for i in listado_viajes:\n",
        "  if c<4:\n",
        "    c=c+1\n",
        "    print(i)\n"
      ],
      "metadata": {
        "id": "y8LnP5Z0RILA",
        "colab": {
          "base_uri": "https://localhost:8080/"
        },
        "outputId": "9cd51581-66b3-47f6-b616-c853971646d4"
      },
      "execution_count": 20,
      "outputs": [
        {
          "output_type": "stream",
          "name": "stdout",
          "text": [
            "{'Mes de inicio': '2021-01', 'provincia de origen': 'Buenos Aires', 'provincia destino': 'Buenos Aires', 'viajes': '6920', 'viajeros': '22436', 'edicion': 'previaje 1'}\n",
            "{'Mes de inicio': '2021-01', 'provincia de origen': 'Buenos Aires', 'provincia destino': 'Catamarca', 'viajes': '24', 'viajeros': '56', 'edicion': 'previaje 1'}\n",
            "{'Mes de inicio': '2021-01', 'provincia de origen': 'Buenos Aires', 'provincia destino': 'Chaco', 'viajes': '15', 'viajeros': '27', 'edicion': 'previaje 1'}\n",
            "{'Mes de inicio': '2021-01', 'provincia de origen': 'Buenos Aires', 'provincia destino': 'Chubut', 'viajes': '446', 'viajeros': '1203', 'edicion': 'previaje 1'}\n"
          ]
        }
      ]
    },
    {
      "cell_type": "code",
      "source": [
        "#etapa 3: analisis y grafico\n",
        "import math\n",
        "#funcion que calcula la distancia entre dos puntos\n",
        "def calculo_distancia(x1,x2,y1,y2):\n",
        "  distancia = math.sqrt((x2-x1)**2 + (y2-y1)**2)\n",
        "  return distancia\n",
        "#ingreso de datos del usuario\n",
        "prov1 = input(str(\"Ingrese el nombre de la primera provincia: \"))\n",
        "prov2 = input(str(\"Ingrese el nombre de la segunda provincia: \"))\n",
        "#iteracion sobre la estructura de datos de provincias para encontrar las provincias seleccionadas por el usuario\n",
        "for i in dic_prov:\n",
        "  if prov1 == i:\n",
        "    punto1 = dic[i]\n",
        "  elif prov2 == i:\n",
        "    punto2 = dic[i]\n",
        "\n",
        "#guardo las coordenada de los puntos en nuevas variables, separando ordenadas y abscisas\n",
        "x1, y1 = map(float, punto1)\n",
        "x2, y2 = map(float, punto2)\n",
        "\n",
        "#llamada a la funcion para calcular la distancia\n",
        "resultado = calculo_distancia(x1,x2,y1,y2)\n",
        "\n",
        "print(\"La distancia entre las dos provincias es de:\",resultado)"
      ],
      "metadata": {
        "colab": {
          "base_uri": "https://localhost:8080/"
        },
        "id": "L1FieRACn_8p",
        "outputId": "69be9591-aeae-4b8e-bcce-8468184ea42f"
      },
      "execution_count": 22,
      "outputs": [
        {
          "output_type": "stream",
          "name": "stdout",
          "text": [
            "Ingrese el nombre de la primera provincia: Mendoza\n",
            "Ingrese el nombre de la segunda provincia: Santa Fe\n",
            "La distancia entre las dos provincias es de: 8.223909416451523\n"
          ]
        }
      ]
    },
    {
      "cell_type": "code",
      "source": [
        "#ingreso de datos del usuario\n",
        "prov1 = input(str(\"Ingrese el nombre de la primera provincia: \"))\n",
        "prov2 = input(str(\"Ingrese el nombre de la segunda provincia: \"))\n",
        "#inicializacion de listas\n",
        "viaje_ida=[]\n",
        "viaje_vuelta=[]\n",
        "edicion_ida=[]\n",
        "edicion_vuelta=[]\n",
        "viaje_edicion1=[]\n",
        "viaje_edicion2=[]\n",
        "viaje_edicion3=[]\n",
        "#iteracion en la estructura de datos del archivo previaje.csv\n",
        "#guardo los viajes de ida y los viajes de vuelta junto con su edicion\n",
        "for i in listado_viajes:\n",
        "  if (prov1 == i.provincia_origen) and (prov2 == i.provincia_destino):\n",
        "    viaje_ida.append(i.viajes)\n",
        "    edicion_ida.append(i.edicion)\n",
        "  elif (prov2 == i.provincia_origen) and (prov1 == i.provincia_destino):\n",
        "    viaje_vuelta.append(i.viajes)\n",
        "    edicion_vuelta.append(i.edicion)\n",
        "#itero entre ambas listas de los viajes de ida para distinguir las ediciones de previaje\n",
        "for i,j in zip(viaje_ida, edicion_ida):\n",
        "  if j == \"previaje 1\":\n",
        "    viaje_edicion1.append(i)\n",
        "  elif j == \"previaje 2\":\n",
        "    viaje_edicion2.append(i)\n",
        "  elif j == \"previaje 3\":\n",
        "    viaje_edicion3.append(i)\n",
        "#itero entre ambas listas de los viajes de vuelta para distinguir las ediciones de previaje\n",
        "for i,j in zip(viaje_vuelta,edicion_vuelta):\n",
        "  if j == \"previaje 1\":\n",
        "    viaje_edicion1.append(i)\n",
        "  elif j == \"previaje 2\":\n",
        "    viaje_edicion2.append(i)\n",
        "  elif j == \"previaje 3\":\n",
        "    viaje_edicion3.append(i)\n",
        "#guardo en cada variable la suma total de viajes, tanto de ida como de vuelta de cada edicion\n",
        "#convierto los datos de texto a entero para poder sumarlos\n",
        "edicion1 = sum(list(map(int,viaje_edicion1)))\n",
        "edicion2 = sum(list(map(int,viaje_edicion2)))\n",
        "edicion3 = sum(list(map(int,viaje_edicion3)))\n",
        "#muestra en pantalla la suma total de viajes para cada edicion\n",
        "print(\"Total de viajes para la edicion 1: \",edicion1)\n",
        "print(\"Total de viajes para la edicion 2: \",edicion2)\n",
        "print(\"Total de viajes para la edicion 3: \",edicion3)\n"
      ],
      "metadata": {
        "colab": {
          "base_uri": "https://localhost:8080/"
        },
        "id": "cUr7EHFq1m4I",
        "outputId": "66dfbff4-7e83-45ed-e462-8b4ca230ed48"
      },
      "execution_count": null,
      "outputs": [
        {
          "output_type": "stream",
          "name": "stdout",
          "text": [
            "Ingrese el nombre de la primera provincia: Santa Fe\n",
            "Ingrese el nombre de la segunda provincia: San Luis\n",
            "Total de viajes para la edicion 1:  277\n",
            "Total de viajes para la edicion 2:  2494\n",
            "Total de viajes para la edicion 3:  1051\n"
          ]
        }
      ]
    },
    {
      "cell_type": "code",
      "source": [
        " #grafico del punto anterior\n",
        "import matplotlib.pyplot as plt\n",
        "\n",
        "clave = [\"Previaje 1\", \"Previaje 2\", \"Previaje 3\"]\n",
        "valores = [edicion1, edicion2, edicion3]\n",
        "\n",
        "plt.figure(figsize = (20,6))\n",
        "plt.title('Cantidad total de viajes para cada edicion de previaje',fontsize=25) #titulo del gráfico y tamaño de la fuente\n",
        "plt.bar(clave, valores)"
      ],
      "metadata": {
        "colab": {
          "base_uri": "https://localhost:8080/",
          "height": 536
        },
        "id": "73U_IJPoJ46n",
        "outputId": "a1e479e3-d82c-47c7-b8f3-89d8b6e0256b"
      },
      "execution_count": null,
      "outputs": [
        {
          "output_type": "execute_result",
          "data": {
            "text/plain": [
              "<BarContainer object of 3 artists>"
            ]
          },
          "metadata": {},
          "execution_count": 12
        },
        {
          "output_type": "display_data",
          "data": {
            "text/plain": [
              "<Figure size 2000x600 with 1 Axes>"
            ],
            "image/png": "[encoded data removed]"
          },
          "metadata": {}
        }
      ]
    }
  ],
  "metadata": {
    "colab": {
      "provenance": [],
      "include_colab_link": true
    },
    "kernelspec": {
      "display_name": "Python 3",
      "name": "python3"
    },
    "language_info": {
      "name": "python"
    }
  },
  "nbformat": 4,
  "nbformat_minor": 0
}